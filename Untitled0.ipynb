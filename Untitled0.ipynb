{
 "metadata": {
  "name": "",
  "signature": "sha256:f040ec104bd03f0992a15bc523f633c8296732c16683bfba3d5b590d30ffcef7"
 },
 "nbformat": 3,
 "nbformat_minor": 0,
 "worksheets": [
  {
   "cells": [
    {
     "cell_type": "code",
     "collapsed": false,
     "input": [
      "import numpy as np\n",
      "from bokeh.plotting import *\n",
      "from bokeh.objects import Range1d\n",
      "\n",
      "N = 1000"
     ],
     "language": "python",
     "metadata": {},
     "outputs": []
    },
    {
     "cell_type": "code",
     "collapsed": false,
     "input": [
      "x = np.linspace(0, 10, N)\n",
      "y = np.linspace(0, 10, N)\n",
      "xx, yy = np.meshgrid(x, y)\n",
      "d = np.sin(xx)*np.cos(yy)"
     ],
     "language": "python",
     "metadata": {},
     "outputs": [],
     "prompt_number": 15
    }
   ],
   "metadata": {}
  }
 ]
}